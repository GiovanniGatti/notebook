{
 "cells": [
  {
   "cell_type": "markdown",
   "metadata": {},
   "source": [
    "# Analysis of Field Data on Web Security Vulnerabilities"
   ]
  },
  {
   "cell_type": "code",
   "execution_count": 2,
   "metadata": {
    "hideCode": true,
    "hidePrompt": true,
    "scrolled": false
   },
   "outputs": [
    {
     "data": {
      "text/html": [
       "\n",
       "        <iframe\n",
       "            width=\"340\"\n",
       "            height=\"220\"\n",
       "            src=\"https://drive.google.com/file/d/1GCQYn9vYgB4BrIcPfNcPiBWcu0qK5v59/preview\"\n",
       "            frameborder=\"0\"\n",
       "            allowfullscreen\n",
       "        ></iframe>\n",
       "        "
      ],
      "text/plain": [
       "<IPython.lib.display.IFrame at 0x7fa3955ee7f0>"
      ]
     },
     "execution_count": 2,
     "metadata": {},
     "output_type": "execute_result"
    }
   ],
   "source": [
    "from IPython.display import IFrame\n",
    "IFrame('https://drive.google.com/file/d/1GCQYn9vYgB4BrIcPfNcPiBWcu0qK5v59/preview', width=340, height=220)"
   ]
  },
  {
   "cell_type": "markdown",
   "metadata": {
    "hideCode": true,
    "hidePrompt": true
   },
   "source": [
    "## Paper Review\n",
    "\n",
    "### Summary\n",
    "\n",
    "\n",
    "This paper analyzes and classifies security faults (adjudged or hypothesized cause of deviation of an external state of the system from the correct service state [1]) of some of the most popular online web applications. The authors have chosen to focus on cross-site scripting (XSS) and SQL injection (SQLi) as those are two of the most common and critical vulnerabilities found in web applications [2], [3]. They compare these two vulnerabilities between weak (PHP) and strong (Java, C#, VB) typed programming languages exposing the Pearson correlation between fault types [4].\n",
    "\n",
    "This paper goal is purely educational as it suggests that its outcomes can be used to train software developers and code inspectors. Moreover, it places itself as  the foundation of \"realistic\" vulnerability and attack injectors research.\n",
    "\n",
    "### Positive key points\n",
    "\n",
    " * As fault classification was manually done by researches themselves based in public shared patches, results can be fairly trusted and it is very likely that it really exposes the current health state of the analyzed applications\n",
    " * This research is very well aligned with its educational goal: fault types are well exposed and explained; authors have particularly focused as case of study in real widely used web applications with real attacks.\n",
    "\n",
    "### Axes of Improvement\n",
    "\n",
    "Although this paper puts some effort on setting up its own definitions (fault types for example), it lacks a formal definition of strong/weak typed programming languages. It uses few programming languages as examples of each, which comes also to be the definition itself. The reader may ask himself how other programming languages would be classified. Is python a strong typed programming language as it has little implicit type casting and strong type checking during runtime or is it a weak typed programming language because its compiler does not offer any static type checking?\n",
    "\n",
    "This paper results may be strongly biased as itself recognizes few times. They have mostly looked into Web Content management applications, which are particularly more susceptible to XSS and SQLi attacks as users are mostly inputing text content into the system. Moreover those applications were selected because they are popular and it is more likely that they are popular because their look-and-feel, license price, easy management, rather than its security capabilities. Besides, those applications are all open source, which means that they are maintained by the community rather than a company, therefore that no one is actually contractually responsible for maintenance. Last but not least, they were focused on public known and fixed issues. In practice, it is easier to detect and fix SQLi and XSS attacks than some other class of issues.\n",
    "\n",
    "Lastly, in my humble opinion, the comparison between programming languages (particularly, PHP vs Java) is a complete non-sense. PHP was originally designed for non-programmers[5] and it does not offer the same set of functionalities as other lower level programming languages. It has lot of bad designed choices which gives more complexity to manage than its counterparts. Furthermore, comparison conclusion may be easily biased on communities' maturity as the authors themselves recognize at some point in the paper (\"[..] when most of **strong** typed applications analyzed were implemented, the technical community was already concerned about there problems [XSS, SQLi].\"). \n",
    "\n",
    "\n",
    "### Conclusion\n",
    "\n",
    "Although the paper is quite interesting and it develops the analysis on the right way (checking up past fixes), it lacks the analysis of few important variables, such as how many time it took to identify and fix security issues, or how compromising they were.\n",
    "\n",
    "In addition, comparing programming languages is essentially a bad idea because it can mislead the discussion from its original goal. The authors should insist instead on bad/good design practices (language independent).\n",
    "\n",
    "My final advice is that such paper has a very limited view of the complexity of security (focused on two issue types, studying only known attacks with few open source web applications) when it claims to be a \"foundation for the research of realistic vulnerability and attack injectors\". \n",
    "\n",
    "\n",
    "### (Transitive) References\n",
    "\n",
    "[1] A. Avizienis, J.C. Laprie, B. Randell, and C. Landwehr, \"Basic Concepts and Taxonomy of Dependable and Secure Computing,\" IEEE Trans. Dependable and Secure Computing, vol. 1, no. 1, pp. 11-33, Jan.-Mar. 2004.\n",
    "\n",
    "[2] S. Christey and R. Martin, \"Vulnerability Type Distributions in CVE,\" http://cwe.mitre.org/documents/vuln-trends/index. html, May 2007.\n",
    "\n",
    "[3] OWASP Foundation, \"OWASP Top 10,\" https://www.owasp. org/index.php/Top_10_2010-Main, July 2010.\n",
    "\n",
    "[4] J. Cohen, Statistical Power Analysis for the Behavioral Sciences, second ed., Lawrence Erlbaum, 1988.\n",
    "\n",
    "[5] http://php.net/manual/en/history.php.php"
   ]
  }
 ],
 "metadata": {
  "hide_code_all_hidden": true,
  "kernelspec": {
   "display_name": "Python 3",
   "language": "python",
   "name": "python3"
  },
  "language_info": {
   "codemirror_mode": {
    "name": "ipython",
    "version": 3
   },
   "file_extension": ".py",
   "mimetype": "text/x-python",
   "name": "python",
   "nbconvert_exporter": "python",
   "pygments_lexer": "ipython3",
   "version": "3.6.3"
  }
 },
 "nbformat": 4,
 "nbformat_minor": 2
}
