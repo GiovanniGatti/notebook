{
 "cells": [
  {
   "cell_type": "markdown",
   "metadata": {},
   "source": [
    "# Efficient and Flexible Discovery of PHP Application Vulnerabilities"
   ]
  },
  {
   "cell_type": "code",
   "execution_count": 1,
   "metadata": {},
   "outputs": [
    {
     "data": {
      "text/html": [
       "\n",
       "        <iframe\n",
       "            width=\"340\"\n",
       "            height=\"220\"\n",
       "            src=\"https://drive.google.com/file/d/1yZSNQld-SgpxuZIJNF6qcvo0Thx6MWHD/preview\"\n",
       "            frameborder=\"0\"\n",
       "            allowfullscreen\n",
       "        ></iframe>\n",
       "        "
      ],
      "text/plain": [
       "<IPython.lib.display.IFrame at 0x7f4998c46eb8>"
      ]
     },
     "execution_count": 1,
     "metadata": {},
     "output_type": "execute_result"
    }
   ],
   "source": [
    "from IPython.display import IFrame\n",
    "IFrame('https://drive.google.com/file/d/1yZSNQld-SgpxuZIJNF6qcvo0Thx6MWHD/preview', width=340, height=220)"
   ]
  },
  {
   "cell_type": "markdown",
   "metadata": {},
   "source": [
    "## Paper Review\n",
    "\n",
    "### Summary\n",
    "\n",
    "Willing to perform a large-scale security vulnerability evaluation, authors focused in implementing an automatic tool that can report a wide range of vulnerabilities (including SQL Injection, Cross-Site Scripting, Command Injection) for PHP through an interprocedural analysis technique based on Code Property Graphs. To obtain this property graph, authors described the applied process which starts from PHP raw code transforming it into a combination of Abstract Syntax Tree, Control Flow Graph, Program Dependence Graph and Call Graphs and finally merging all of them together into a final structure called Code Property Graph. The final structure is sufficiently rich to develop easily queries that can search for unsanitized external inputs that can be exploited by the studied attacks.\n",
    "\n",
    "The proposed technique was applied to 1854 popular PHP open-source projects (almost 80 million lines of code), reporting 25% hit rate for the case of code injection and only about 4% in the case of Cross-Site Scripting.\n",
    "\n",
    "### Positive Key Points\n",
    "\n",
    " * This paper opens an interesting road for large-scale code security evaluation\n",
    " * Although almost all targeted vulnerabilities come from the same class (they can be solved by proper input sanitizing), it considers a wide range of possible attacks targeting both server and client\n",
    " * The proposed tool reuse PHP interpreter for AST generation, which fairly decouples the technique from the language syntax\n",
    "\n",
    "\n",
    "### Axes of Improvement\n",
    "\n",
    "Even though the approach is quite interesting, it can quick suffer a mistrust from actual users (developers trying to improve the security of their applications). This mistrust may come from the high number of reported false positives added to the fact that authors chose to under-approximate results, leaving a lot of space for false negatives. This issue might be solved by mixing the proposed approach with the one developed at \"[Analysis of Field Data on Web Security Vulnerabilities](./analysis-of-field-data-on-web-security-vulnerabilities.ipynb)\", making use of supervised learning techniques that, based in past experiences, can be trained how to identify new vulnerabilities, instead of using of human-designed queries. This learning can even be facilitated by intentionally injecting vulnerabilities in the training applications (such as the 4 educational projects identified by the researchers).\n",
    "\n",
    "Another issue to be addressed comes from performance. Their database generation takes several hours to run in a machine with 32 physical cores and 768 Gb RAM. It is possible to come up with a different implementation strategy that would enable to run the proposed transformations within a cluster, achieving then a better performance with a lower cost.\n",
    "\n",
    "Focusing about more on practical issues, this paper has accepted few sanitizers as trusted. However, sanitizing is often application-context dependent and developers may end up writing some regular expressions to check up input validity. Researches leave it clear that their method is flexible enough to add those sanitizers the list of trusted ones. Nevertheless, how does one define a sanitizer as trusted (clean of bugs)? Just the fact of sanitizing is not enough to trust that a program flow is safe, one must also test for sanitizer's validity too, which can be done by automatically trying to exploit it (possibly trying to inject code with trivial past examples).\n",
    "\n",
    "Although starting evaluation through vulnerable end points as described in section 3.3.4 is a good start, it is a mistake to not consider making a broader analysis. In practice, any input that may change the internal state of an application (not necessarily going into a database or a file system) may be exploited by an attacker. This strategy should be applied to a wider range of variables including intermediate caches, global variables, singletons, anything that can may leak outside a given context.\n",
    "\n",
    "Lastly it is quite surprising that no study on false negatives was presented. I do understand that measuring how many false negatives someone missed is a hard (maybe impossible) task, but they could have at least counted public security fixes that their tool would have eventually missed. Same thing can apply to how bad the reported security breaches are: missing minor issues is better than major ones.\n",
    "\n",
    "### Conclusion\n",
    "\n",
    "This paper has an interesting approach to tackle the automatic vulnerability detection that has the potential to get to something that really works out. The general applied strategy can be reused to other programming languages (as most of the work is based on language features rather than language syntax). There is still quite a lot of work to be developed from this point to minimize false positives and maximize false negatives.\n",
    "\n",
    "My final advice is that this paper has a great potential, the applied technique should be look with care and that we could mix them with learning techniques to improve its user experience."
   ]
  }
 ],
 "metadata": {
  "kernelspec": {
   "display_name": "Python 3",
   "language": "python",
   "name": "python3"
  },
  "language_info": {
   "codemirror_mode": {
    "name": "ipython",
    "version": 3
   },
   "file_extension": ".py",
   "mimetype": "text/x-python",
   "name": "python",
   "nbconvert_exporter": "python",
   "pygments_lexer": "ipython3",
   "version": "3.6.3"
  }
 },
 "nbformat": 4,
 "nbformat_minor": 2
}
