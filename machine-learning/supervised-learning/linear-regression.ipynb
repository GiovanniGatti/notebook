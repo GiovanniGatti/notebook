{
 "cells": [
  {
   "cell_type": "markdown",
   "metadata": {},
   "source": [
    "# Regression Problem\n",
    "\n",
    "Regression analysis is a set of statistical processes for estimating the relationships among variables. Formally,\n",
    "\n",
    "* The unknown parameters, denoted as $\\theta$ , which may represent a scalar or a vector.\n",
    "* The independent variables, $\\mathcal{X}$.\n",
    "* The dependent variable, $\\mathcal{Y}$.\n",
    "\n",
    "The goal is then to be able to predict $\\mathcal{Y}$ given < $\\mathcal{X}$, $\\theta$ > :\n",
    "\n",
    "$$\\mathcal{Y} \\approx h(X, \\theta)$$\n",
    "\n",
    "where $h(X, \\theta)$ is called the hypotesis function."
   ]
  },
  {
   "cell_type": "code",
   "execution_count": 8,
   "metadata": {
    "hideCode": false,
    "hidePrompt": true
   },
   "outputs": [
    {
     "data": {
      "text/html": [
       "\n",
       "        <iframe\n",
       "            width=\"340\"\n",
       "            height=\"220\"\n",
       "            src=\"https://drive.google.com/file/d/1cJHJ5AdcFd0tibQvCrME4ychIrvPQoGc/preview\"\n",
       "            frameborder=\"0\"\n",
       "            allowfullscreen\n",
       "        ></iframe>\n",
       "        "
      ],
      "text/plain": [
       "<IPython.lib.display.IFrame at 0x7fa348da47b8>"
      ]
     },
     "execution_count": 8,
     "metadata": {},
     "output_type": "execute_result"
    }
   ],
   "source": [
    "from IPython.display import IFrame\n",
    "IFrame('https://drive.google.com/file/d/1cJHJ5AdcFd0tibQvCrME4ychIrvPQoGc/preview', width=340, height=220)"
   ]
  },
  {
   "cell_type": "code",
   "execution_count": 9,
   "metadata": {},
   "outputs": [
    {
     "data": {
      "text/html": [
       "\n",
       "        <iframe\n",
       "            width=\"340\"\n",
       "            height=\"220\"\n",
       "            src=\"https://drive.google.com/file/d/1WknHdpGr4HkJU3ZCuW9i0tBJDF6MDd5w/preview?t=575\"\n",
       "            frameborder=\"0\"\n",
       "            allowfullscreen\n",
       "        ></iframe>\n",
       "        "
      ],
      "text/plain": [
       "<IPython.lib.display.IFrame at 0x7fa348da46a0>"
      ]
     },
     "execution_count": 9,
     "metadata": {},
     "output_type": "execute_result"
    }
   ],
   "source": [
    "from IPython.display import IFrame\n",
    "IFrame('https://drive.google.com/file/d/1WknHdpGr4HkJU3ZCuW9i0tBJDF6MDd5w/preview?t=575', width=340, height=220)"
   ]
  },
  {
   "cell_type": "code",
   "execution_count": 10,
   "metadata": {},
   "outputs": [
    {
     "data": {
      "text/html": [
       "\n",
       "        <iframe\n",
       "            width=\"340\"\n",
       "            height=\"220\"\n",
       "            src=\"https://drive.google.com/file/d/1kAlwLwUJiKjN8HyQlquw2Q3kzB1SWyRt/preview\"\n",
       "            frameborder=\"0\"\n",
       "            allowfullscreen\n",
       "        ></iframe>\n",
       "        "
      ],
      "text/plain": [
       "<IPython.lib.display.IFrame at 0x7fa348d747f0>"
      ]
     },
     "execution_count": 10,
     "metadata": {},
     "output_type": "execute_result"
    }
   ],
   "source": [
    "from IPython.display import IFrame\n",
    "IFrame('https://drive.google.com/file/d/1kAlwLwUJiKjN8HyQlquw2Q3kzB1SWyRt/preview', width=340, height=220)"
   ]
  },
  {
   "cell_type": "markdown",
   "metadata": {},
   "source": [
    "## Linear Regression\n",
    "\n",
    "Let's say that we decide to represent the hypothesis $h$ as a linear function of $\\mathcal{X}$:\n",
    "\n",
    "$$h_\\theta(x) = \\theta_0 + \\theta_1 x_1 + \\theta_2 x_2$$\n",
    "\n",
    "Here, the $\\theta_i$’s are the parameters (also called weights) parameterizing the space of linear functions mapping from $\\mathcal{X}$ to $\\mathcal{Y}$. When there is no risk of confusion, we will drop the $\\theta$ subscript in $h_\\theta(x)$, and write it more simply as $h(x)$. To simplify our notation, we also introduce the convention of letting $x_0 = 1$ (the intercept term), so that\n",
    "\n",
    "$$h(x) = \\sum_{i=0}^{n} \\theta_i x_i = \\theta^T x$$\n",
    "\n",
    "In order to learn parameters $\\theta$ the most naive choice is to make $h(x)$ as close as possible from $\\mathcal{Y}$, which brings us to the cost function:\n",
    "\n",
    "$$J(\\theta) = \\frac{1}{2} \\sum_{i=1}^{m} (h_\\theta(x^{(i)}) - y^{(i)})^2 $$\n",
    "\n",
    "Which measures the half total of the total square distance from model to reality."
   ]
  },
  {
   "cell_type": "markdown",
   "metadata": {},
   "source": [
    "### Least Mean Aquares algorithm\n",
    "\n",
    "We want to choose $\\theta$ so as to minimize the cost function $J(\\theta)$. To do so, lets consider applying [gradient descent algorithm](/notebooks/math/gradient-descent.ipynb):\n",
    "\n",
    "$$\\theta_{j} := \\theta_j - \\alpha \\frac{\\partial J(\\theta)}{\\partial \\theta_j}$$\n",
    "\n",
    "(every single interaction, we simultaneously update all values of $\\theta$)\n",
    "\n",
    "Here, $\\alpha$ is usually called the **learning rate**.\n",
    "\n",
    "Working out this partial derivative we get:\n",
    "\n",
    "\n",
    "$$\\frac{\\partial J(\\theta)}{\\partial \\theta_j} = \\frac{\\partial}{\\partial \\theta_j} \\frac{1}{2} (h_\\theta(x) - y)^2\n",
    "\\\\= \\frac{1}{2} \\cdot 2 (h_\\theta(x) - y) \\cdot \\frac{\\partial}{\\partial \\theta_j} (h_\\theta(x) - y)\n",
    "\\\\= (h_\\theta(x) - y) \\cdot \\frac{\\partial}{\\partial \\theta_j} \\sum_{i=0}^{n} (\\theta_i x_i - y)\n",
    "\\\\= (h_\\theta(x) - y) x_j$$\n",
    "\n",
    "therefore we end up with:\n",
    "\n",
    "$$\\theta_{j} := \\theta_j + \\alpha \\cdot (y^{(i)}  - h_\\theta(x^{(i)})) x_j^{(i)}$$\n",
    "\n",
    "This formula works with a single example for a single parameter. We can generalize too\n",
    "\n",
    "$\\text{repeat until convergence } \\big\\{$\n",
    "\n",
    "$$\n",
    "\\begin{bmatrix}\n",
    "    \\theta_{0} \\\\\n",
    "    \\vdots \\\\\n",
    "    \\theta_{j}\n",
    "\\end{bmatrix}\n",
    ":=\n",
    "\\begin{bmatrix}\n",
    "    \\theta_{0} \\\\\n",
    "    \\vdots \\\\\n",
    "    \\theta_{j}\n",
    "\\end{bmatrix}\n",
    "+ \\alpha \\cdot\n",
    "\\sum_{i=1}^{m}\n",
    "\\Bigg(y^{(i)} - \n",
    "\\begin{bmatrix}\n",
    "    x^{i}_{0} & \\dots & x^{i}_{j} \\\\\n",
    "\\end{bmatrix}\n",
    "\\cdot\n",
    "\\begin{bmatrix}\n",
    "    \\theta_{0} \\\\\n",
    "    \\vdots \\\\\n",
    "    \\theta_{j}\n",
    "\\end{bmatrix}\n",
    "\\Bigg) \\cdot\n",
    "\\begin{bmatrix}\n",
    "    x^{i}_{0} \\\\ \n",
    "    \\dots \\\\\n",
    "    x^{i}_{j}\n",
    "\\end{bmatrix}\n",
    "$$\n",
    "\n",
    "$\\big\\}$\n",
    "\n",
    "The rule is called the LMS update rule and is also known as the Widrow-Hoff learning rule. Note that the magnitude of the update is proportional to the error term $(y^{(i)}  - h_\\theta(x^{(i)}))$. This method looks at every example in the entire training set on every step, and is called **batch gradient descent**. It is also important that, while gradient descent can be susceptible to local minima in general, the optimization problem we have posed here for linear regression has only one global, and no other local, optima; thus **gradient descent always converges** (assuming the learning rate $\\alpha$ is not too large) to the global minimum.\n",
    "\n",
    "Notice that $\\alpha$ has a huge part in the stability of the whole process. As bigger the dataset gets, smaller it has to be. The biggest is the precision we want, the smaller it has to be. Smaller it gets, the slower the convergence will be. It is though common to run (stochastic) gradient descent as we have described it and with a fixed learning rate $\\alpha$, by slowly letting the learning rate $\\alpha$ decrease to zero as the algorithm runs, it is also possible to ensure that the parameters will converge to the global minimum rather then merely oscillate around the minimum.\n",
    "\n",
    "#### Example\n",
    "\n",
    "Let's say that we want to predict the selling price of a house. We indentified two independent variables that contribute to the selling price (living area and number of bedrooms) and we collected the following data: \n",
    "\n",
    "| Living area (square feet) | #bedrooms   | price (1000$s) |\n",
    "|---------------------------|-------------|----------------|\n",
    "| 2104                      | 3           | 400            |\n",
    "| 1600                      | 3           | 330            |\n",
    "| 2400                      | 3           | 369            |\n",
    "| 1416                      | 2           | 232            |\n",
    "| 3000                      | 4           | 540            |\n"
   ]
  },
  {
   "cell_type": "code",
   "execution_count": 11,
   "metadata": {
    "scrolled": false
   },
   "outputs": [
    {
     "name": "stdout",
     "output_type": "stream",
     "text": [
      "θ₀= [90.   0.4 -9. ]\n",
      "J(θ₀)= 1496423.12\n",
      "θ= [89.99988093  0.14968334 -9.00033479]\n",
      "J(θ)= 8142.323265782019\n"
     ]
    }
   ],
   "source": [
    "import numpy as np\n",
    "\n",
    "x = np.array([[1, 2104, 3],\n",
    "             [1, 1600, 3],\n",
    "             [1, 2400, 3],\n",
    "             [1, 1416, 2],\n",
    "             [1, 3000, 4]])\n",
    "\n",
    "y = np.array([400, 330, 369, 232, 540])\n",
    "\n",
    "theta = np.array([90, .4, -9.0])\n",
    "\n",
    "cost = float(.0)\n",
    "for i in range(0, np.size(x, 0)):\n",
    "    cost += (y[i] - np.sum(theta * x[i]))**2\n",
    "\n",
    "print(\"\\u03B8\\u2080=\", theta)\n",
    "print(\"J(\\u03B8\\u2080)=\", cost)\n",
    "\n",
    "alpha = 0.00000001\n",
    "last_cost = cost\n",
    "while True:\n",
    "    partial = np.zeros(theta.size)\n",
    "    for i in range(0, np.size(x, 0)):\n",
    "        partial += (y[i] - np.sum(x[i] * theta)) * x[i]\n",
    "    theta += alpha * partial\n",
    "    \n",
    "    cost = float(.0)\n",
    "    for i in range(0, np.size(x, 0)):\n",
    "        cost += (y[i] - np.sum(theta * x[i]))**2\n",
    "    \n",
    "    if(last_cost - cost < 0.0001):\n",
    "        last_cost = cost\n",
    "        break\n",
    "    last_cost = cost\n",
    "\n",
    "print(\"\\u03B8=\", theta)\n",
    "print(\"J(\\u03B8)=\", last_cost)"
   ]
  },
  {
   "cell_type": "markdown",
   "metadata": {},
   "source": [
    "### Normal Equations\n",
    "\n",
    "Another way of minimizing $J(\\theta)$ without resorting to an iterative algorithm is by explicitly taking its derivatives with respect to $\\theta_{i}$'s and setting them to zero.\n",
    "\n",
    "Let \n",
    "\n",
    "$$\n",
    "X = \\begin{bmatrix}\n",
    "    (x^{(1)})^T \\\\\n",
    "    (x^{(2)})^T \\\\\n",
    "    \\vdots \\\\\n",
    "    (x^{(m)})^T \n",
    "\\end{bmatrix}\n",
    "\\quad\n",
    "%\n",
    "\\quad\n",
    "\\vec{y} = \\begin{bmatrix}\n",
    "    (y^{(1)}) \\\\\n",
    "    (y^{(2)}) \\\\\n",
    "    \\vdots \\\\\n",
    "    (y^{(m)}) \n",
    "\\end{bmatrix}\n",
    "$$\n",
    "\n",
    "where $X$ is the **design matrix** (m-by-n+1, if we include of the intercept term) that contains the training examples' input values and $\\vec{y}$ is the m-dimensional vector containing all target values from the training set.\n",
    "\n",
    "Then,\n",
    "\n",
    "$$\n",
    "J(\\theta) = \\frac{1}{2} \\sum_{i=1}^{m} \\big(h_{\\theta}(x^{(i)}) - y^{(i)}\\big)^2 = \\frac{1}{2} \\big(X \\theta - \\vec{y} \\big)^T \\big(X \\theta - \\vec{y} \\big)\n",
    "$$\n",
    "\n",
    "Finally, making use of [Matrix derivatives](/notebooks/notebook/math/matrix-derivatives.ipynb), we get\n",
    "\n",
    "$$\n",
    "\\nabla_{\\theta} J(\\theta) = \\nabla_{\\theta} \\frac{1}{2} \\big( X \\theta - \\vec{y} \\big)^T \\big( X \\theta - \\vec{y} \\big)\n",
    "= X^T X \\theta - X^T \\vec{y}\n",
    "$$\n",
    "\n",
    "Please, refer to lecture notes (here attached) for math details.\n",
    "\n",
    "In order to minimize $J(\\theta)$, we set its derivatives to zero and we obtain the **normal equations**:\n",
    "\n",
    "$$\n",
    "X^T X \\theta = X^T \\vec{y} \\iff \\theta = (X^T X)^{-1} X^T \\vec{y}\n",
    "$$\n",
    "\n",
    "#### Example\n",
    "\n",
    "Applying the normal equations to the last example:"
   ]
  },
  {
   "cell_type": "code",
   "execution_count": 12,
   "metadata": {},
   "outputs": [
    {
     "name": "stdout",
     "output_type": "stream",
     "text": [
      "θ= [-7.04346018e+01  6.38433756e-02  1.03436047e+02]\n",
      "J(θ)= 1444.144432699083\n"
     ]
    }
   ],
   "source": [
    "import numpy as np\n",
    "\n",
    "x = np.array([[1, 2104, 3],\n",
    "             [1, 1600, 3],\n",
    "             [1, 2400, 3],\n",
    "             [1, 1416, 2],\n",
    "             [1, 3000, 4]])\n",
    "\n",
    "y = np.array([400, 330, 369, 232, 540])\n",
    "\n",
    "theta = np.dot(np.dot(np.linalg.inv(np.dot(np.transpose(x), x)), np.transpose(x)), y)\n",
    "\n",
    "cost = .0\n",
    "for i in range(0, np.size(x, 0)):\n",
    "    cost += (y[i] - np.sum(theta * x[i]))**2\n",
    "\n",
    "print(\"\\u03B8=\", theta)\n",
    "print(\"J(\\u03B8)=\", cost)"
   ]
  },
  {
   "cell_type": "markdown",
   "metadata": {},
   "source": [
    "### Probabilistic Interpretation\n",
    "\n",
    "When faced to a regression problem, why might linear regression, and specifically why might the least-squares cost function $J$, be a reasonable choice?\n",
    "\n",
    "Let's assume that the target variables and the inputs are related via the following equation:\n",
    "\n",
    "$$y^{(i)} = \\theta^T x^{(i)} + \\epsilon^{(i)}$$\n",
    "\n",
    "where $\\epsilon^{(i)}$ is an error term that captures either unmodeled effects or random noise. Let us further Let us further assume that the $\\epsilon^{(i)}$ are distributed independently and identically distributed according to a Gaussian distribution (also called a Normal distribution) with mean zero and some variance $\\sigma^2$. We can write this assumption as $\\epsilon^{(i)} \\sim \\mathcal{N}(\\mu,\\,\\sigma^{2})$.\n",
    "\n",
    "That implies\n",
    "\n",
    "$$p(\\epsilon^{(i)}) = \\frac{1}{\\sqrt{2 \\pi}\\sigma} exp \\big(- \\frac{(\\epsilon^{(i)})^2}{2 \\sigma^2} \\big)\n",
    "\\\\\\iff\n",
    "p(y^{(i)} | x^{(i)}; \\theta) = \\frac{1}{\\sqrt{2 \\pi}\\sigma} exp \\big(- \\frac{(y^{(i)} - \\theta^T x^{(i)})^2}{2 \\sigma^2} \\big)\n",
    "$$\n",
    "\n",
    "The above formula gives the distribution of $y^{(i)}$ given $x^{(i)}$ and parameterized by $\\theta$. Considering now the entire dataset we can say that the probability of data is given by $p(\\vec{y} | X; \\theta)$. If we whish to explicitly view it as a function of $\\theta$, we end up with the likelyhood function:\n",
    "\n",
    "$$\n",
    "\\begin{align}\n",
    "L(\\theta) &= L(\\theta; X, \\vec{y}) \\\\\n",
    "&= p(\\vec{y}|X;\\theta) \\\\\n",
    "&= \\prod_{i=1}^{m} p(y^{(i)}|x^{(i)}; \\theta) \\\\\n",
    "&= \\prod_{i=1}^{m} \\frac{1}{\\sqrt{2 \\pi}\\sigma} exp \\big(- \\frac{(y^{(i)} - \\theta^T x^{(i)})^2}{2 \\sigma^2} \\big)\n",
    "\\end{align}\n",
    "$$\n",
    "\n",
    "One trick is, instead of maximizing the likelyhood function, to maximize its **log**.\n",
    "\n",
    "$$\n",
    "\\begin{align}\n",
    "l(\\theta) &= \\log L(\\theta) \\\\\n",
    "&= ... \\\\\n",
    "&= m \\log \\frac{1}{\\sqrt{2 \\pi} \\sigma} - \\frac{1}{2\\sigma^{2}} \\sum_{i=1}^{m} \\big( y^{(i)} - \\theta^T x^{(i)} \\big)^2\n",
    "\\end{align}\n",
    "$$\n",
    "\n",
    "Hence, maximizing $l(\\theta)$ gives the same answer as minimizing\n",
    "\n",
    "$$\n",
    "\\frac{1}{2} \\sum_{i=1}^{m} \\big( y^{(i)} - \\theta^T x^{(i)} \\big)^2\n",
    "$$\n",
    "\n",
    "which we recognize to be $J(\\theta)$, our original least-squares cost function.\n",
    "\n",
    "Note that our final choice of $\\theta$ did not depend on what was $\\sigma^2$, and indeed we'd have arrived at the same result even if $\\sigma^2$ were unknown."
   ]
  },
  {
   "cell_type": "markdown",
   "metadata": {},
   "source": [
    "### Locally Weighted Regression\n",
    "\n",
    "Consider the following example:"
   ]
  },
  {
   "cell_type": "code",
   "execution_count": 13,
   "metadata": {},
   "outputs": [
    {
     "data": {
      "text/plain": [
       "[<matplotlib.lines.Line2D at 0x7fa348ce4dd8>]"
      ]
     },
     "execution_count": 13,
     "metadata": {},
     "output_type": "execute_result"
    },
    {
     "data": {
      "image/png": "[encoded data removed]",
      "text/plain": [
       "<Figure size 432x288 with 1 Axes>"
      ]
     },
     "metadata": {
      "needs_background": "light"
     },
     "output_type": "display_data"
    }
   ],
   "source": [
    "import pylab\n",
    "import numpy as np\n",
    "\n",
    "x = np.array([0.5, 1.3, 3.0, 3.7, 4.0, 4.4])\n",
    "y = np.array([3.5, 5.6, 6.6, 6.0, 5.7, 5.6])\n",
    "\n",
    "pylab.plot(x, y, 'bo')\n",
    "\n",
    "## to design matrix (adding intercept term)\n",
    "X = np.insert(x.reshape(x.size, 1), 0, 1, axis=1)\n",
    "\n",
    "theta = np.dot(np.dot(np.linalg.inv(np.dot(np.transpose(X), X)), np.transpose(X)), y)\n",
    "lx = np.linspace(0.5, 4.5, 100)\n",
    "ly = theta[0] + theta[1] * lx\n",
    "pylab.plot(lx, ly, 'r')\n",
    "\n",
    "## to design matrix (adding x^2 term)\n",
    "X = np.concatenate((np.ones(x.size).reshape(x.size, 1), x.reshape(x.size, 1), x.reshape(x.size, 1)**2), axis=1)\n",
    "theta = np.dot(np.dot(np.linalg.inv(np.dot(np.transpose(X), X)), np.transpose(X)), y)\n",
    "ly = theta[0] + theta[1] * lx + theta[2] * lx**2\n",
    "pylab.plot(lx, ly, 'orange')\n",
    "\n",
    "## to design matrix (adding up to x^5 term)\n",
    "X = np.concatenate(\n",
    "    (np.ones(x.size).reshape(x.size, 1),\n",
    "     x.reshape(x.size, 1),\n",
    "     x.reshape(x.size, 1)**2,\n",
    "     x.reshape(x.size, 1)**3,\n",
    "     x.reshape(x.size, 1)**4,\n",
    "     x.reshape(x.size, 1)**5), axis=1)\n",
    "theta = np.dot(np.dot(np.linalg.inv(np.dot(np.transpose(X), X)), np.transpose(X)), y)\n",
    "ly = theta[0] + theta[1] * lx + theta[2] * lx**2 + theta[3] * lx**3 + theta[4] * lx**4 + theta[5] * lx**5\n",
    "pylab.plot(lx, ly, 'g')"
   ]
  },
  {
   "cell_type": "markdown",
   "metadata": {},
   "source": [
    "The red line on the above figure shows the result of fitting a $y = \\theta_{0} + \\theta_{1}x$ to a dataset. We see that the data doesn't really lie on straight line, and so the fit is not very good. Instead, if we artificially add an extra feature $x^2$, and fit $y = \\theta_{0} + \\theta_{1}x + \\theta_{2}x^2$,then we obtain a slightly better fit to the data (orange line). Naively, it might seem that the more features we add, the better. However, there is also a danger in adding too many features: the green line is the result of fitting a 5-th order polynomial. We see that even though the fitted curve passes through the data perfectly, we would not expect this to be a very good predictor. Without formally defining what these terms mean, we'll say the red line shows an instance of **underfitting** — in which the data clearly shows structure not captured by the model — and the figure on the right is an example of **overfitting**.\n",
    "\n",
    "The locally weighted linear regression algorithm does the following: fit $\\theta$ to minimize $\\sum_{i} \\omega^{(i)} \\big(y^{(i)} - \\theta^T x^{(i)} \\big)^2$, where $\\omega^{(i)}$'s are non-negative valued **weights**. A fairly standard choice for weights is\n",
    "\n",
    "$$w^{(i)} = exp(- \\frac{(x^{(i)} - x)^2}{2 \\tau^2})$$\n",
    "\n",
    "Note that the weights depend on the particular point $x$ at which we're trying to evaluate $x$. $\\theta$ is chosen giving a much higher \"weight\" to the (errors on) training examples close to the query point $x$. The parameter\n",
    "$\\tau$ controls how quickly the weight of a training example falls off with distance of its $x^{(i)}$ from the query point $x$; $\\tau$ is called the **bandwidth** parameter.\n",
    "\n",
    "Locally weighted linear regression is an example of a **non-parametric** algorithm. The (unweighted) linear regression algorithm is known as a parametric learning algorithm, because it has a fixed, finite number of parameters (the $\\theta_{i}$'s), which are fit to the data. Once we've fit the $\\theta_{i}$'s and stored them away, we no longer need to\n",
    "keep the training data around to make future predictions. In contrast, to make predictions using locally weighted linear regression, we need to keep the entire training set around. The term \"non-parametric\" (roughly) refers to the fact that the amount of stuff we need to keep in order to represent the hypothesis h grows linearly with the size of the training set."
   ]
  },
  {
   "cell_type": "code",
   "execution_count": null,
   "metadata": {},
   "outputs": [],
   "source": []
  }
 ],
 "metadata": {
  "celltoolbar": "Hide code",
  "kernelspec": {
   "display_name": "Python 3",
   "language": "python",
   "name": "python3"
  },
  "language_info": {
   "codemirror_mode": {
    "name": "ipython",
    "version": 3
   },
   "file_extension": ".py",
   "mimetype": "text/x-python",
   "name": "python",
   "nbconvert_exporter": "python",
   "pygments_lexer": "ipython3",
   "version": "3.6.3"
  }
 },
 "nbformat": 4,
 "nbformat_minor": 2
}
