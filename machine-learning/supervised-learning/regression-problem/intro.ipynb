{
 "cells": [
  {
   "cell_type": "markdown",
   "metadata": {},
   "source": [
    "## Regression Problem\n",
    "\n",
    "Regression analysis is a set of statistical processes for estimating the relationships among variables. Formally,\n",
    "\n",
    "* The unknown parameters, denoted as $\\beta$ , which may represent a scalar or a vector.\n",
    "* The independent variables, $\\mathcal{X}$.\n",
    "* The dependent variable, $\\mathcal{Y}$.\n",
    "\n",
    "The goal is then to be able to predict $\\mathcal{Y}$ given < $\\mathcal{X}$, $\\beta$ > :\n",
    "\n",
    "$$\\mathcal{Y} \\approx f(X,\\beta)$$\n",
    "\n",
    "## Table of Contents\n",
    "\n",
    " * [Least Mean Squares](./least-mean-squares-algorithm.ipynb)"
   ]
  }
 ],
 "metadata": {
  "kernelspec": {
   "display_name": "Python 3",
   "language": "python",
   "name": "python3"
  },
  "language_info": {
   "codemirror_mode": {
    "name": "ipython",
    "version": 3
   },
   "file_extension": ".py",
   "mimetype": "text/x-python",
   "name": "python",
   "nbconvert_exporter": "python",
   "pygments_lexer": "ipython3",
   "version": "3.6.4"
  }
 },
 "nbformat": 4,
 "nbformat_minor": 2
}
