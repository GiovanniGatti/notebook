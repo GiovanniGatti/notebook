{
 "cells": [
  {
   "cell_type": "markdown",
   "metadata": {},
   "source": [
    "# Supervised Learning\n",
    "\n",
    "Supervised learning is the machine learning task of learning a function that maps an input to an output based on example input-output pairs. It infers a function from labeled training data consisting of a set of training examples. The set of features to be learned is specified by the function designer.\n",
    "\n",
    "To describe the supervised learning problem slightly more formally, our goal is, given a training set, to learn a function\n",
    "$h : \\mathcal{X} \\rightarrow \\mathcal{X}$ so that $\\mathcal{h(x)}$ is a \"good\" predictor for the corresponding value of $\\mathcal{y}$. For historical reasons, this function $\\mathcal{h}$ is called a hypothesis.\n",
    "\n",
    "<img src=\"supervised-learning.PNG\">\n",
    "\n",
    "When the target variable $\\mathcal{y}$ that we're trying to predict is continuous, we call the learning problem a [regression problem](./regression-problem/intro.ipynb). When it can take on only a small number of discrete values, we call it a [classification problem](./classification-problem/intro.ipynb)."
   ]
  },
  {
   "cell_type": "code",
   "execution_count": null,
   "metadata": {
    "hideCode": false,
    "hidePrompt": true
   },
   "outputs": [],
   "source": [
    "from IPython.display import IFrame\n",
    "\n",
    "IFrame('https://drive.google.com/file/d/1wiLvYFT5pQBlhI7wfuYKMpcxAQiQ5NSj/preview', width=340, height=220)"
   ]
  },
  {
   "cell_type": "code",
   "execution_count": null,
   "metadata": {},
   "outputs": [],
   "source": []
  }
 ],
 "metadata": {
  "celltoolbar": "Hide code",
  "kernelspec": {
   "display_name": "Python 3",
   "language": "python",
   "name": "python3"
  },
  "language_info": {
   "codemirror_mode": {
    "name": "ipython",
    "version": 3
   },
   "file_extension": ".py",
   "mimetype": "text/x-python",
   "name": "python",
   "nbconvert_exporter": "python",
   "pygments_lexer": "ipython3",
   "version": "3.6.6"
  }
 },
 "nbformat": 4,
 "nbformat_minor": 2
}
