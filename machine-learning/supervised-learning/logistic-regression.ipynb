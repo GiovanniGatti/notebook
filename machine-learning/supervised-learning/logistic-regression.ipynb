{
 "cells": [
  {
   "cell_type": "markdown",
   "metadata": {},
   "source": [
    "# Classification and Logistic Regression\n",
    "\n",
    "The classification problem is much like the [regression problem](/notebooks/machine-learning/supervised-learning/linear-regression.ipynb), except that values we want to predict $\\mathcal{y}$ take only a small number of discrete values."
   ]
  },
  {
   "cell_type": "code",
   "execution_count": null,
   "metadata": {},
   "outputs": [],
   "source": []
  },
  {
   "cell_type": "code",
   "execution_count": null,
   "metadata": {},
   "outputs": [],
   "source": []
  },
  {
   "cell_type": "markdown",
   "metadata": {},
   "source": [
    "## Logistic regression\n",
    "\n",
    "Using the [linear regression](/notebooks/machine-learning/supervised-learning/linear-regression.ipynb) approach to predict $\\mathcal{y}$ given $\\mathcal{x}$ may perform very poorly. The reason is explicitly shown in the below example."
   ]
  },
  {
   "cell_type": "code",
   "execution_count": null,
   "metadata": {},
   "outputs": [],
   "source": [
    "import pylab\n",
    "import numpy as np\n",
    "from sklearn import linear_model\n",
    "\n",
    "## Learning first round\n",
    "reg = linear_model.LinearRegression()\n",
    "\n",
    "x = np.array([2, 3, 4, 5, 6, 7])\n",
    "y = np.array([0, 0, 0, 1, 1, 1])\n",
    "\n",
    "reg.fit(x.reshape((x.size,1)), y)\n",
    "lx = np.linspace(1, 8, 10)\n",
    "ly = reg.intercept_ + reg.coef_ * lx\n",
    "\n",
    "pylab.plot(lx, ly, 'blue')\n",
    "pylab.plot(x, y, 'bo')\n",
    "\n",
    "## Learning second round\n",
    "reg = linear_model.LinearRegression()\n",
    "\n",
    "x = np.array([2, 3, 4, 5, 6, 7, 15])\n",
    "y = np.array([0, 0, 0, 1, 1, 1, 1])\n",
    "\n",
    "reg.fit(x.reshape((x.size,1)), y)\n",
    "lx = np.linspace(1, 15, 10)\n",
    "ly = reg.intercept_ + reg.coef_ * lx\n",
    "\n",
    "pylab.plot(lx, ly, 'g')\n",
    "pylab.plot([15], 1, 'go')"
   ]
  },
  {
   "cell_type": "markdown",
   "metadata": {},
   "source": [
    "Suppose that we are performing linear regression over a training set containing 6 entries such that:\n",
    "\n",
    "| y | 0 | 0 | 0 | 1 | 1 | 1 |\n",
    "|:-:|---|---|---|---|---|---|\n",
    "| x | 2 | 3 | 4 | 5 | 6 | 7 |\n",
    "\n",
    "The output generated will be the blue line, which is essentially a good predictor. However, if we add a new point to our table, let's say $(15, 1)$, which shouldn't change our modeling, but it will affect our model changing its predictions (see green line).\n",
    "\n",
    "To fix this, lets change the form for our hypotheses $h_{\\theta}(x)$. We will choose\n",
    "\n",
    "$$h_{\\theta} = g(\\theta^{T}x) = \\frac{1}{1+e^{-\\theta^{T}x}}$$\n",
    "\n",
    "where\n",
    "\n",
    "$$g(z)=\\frac{1}{1+e^{-z}}$$\n",
    "\n",
    "is called the logistic function or the sigmoid function."
   ]
  },
  {
   "cell_type": "code",
   "execution_count": null,
   "metadata": {},
   "outputs": [],
   "source": []
  }
 ],
 "metadata": {
  "kernelspec": {
   "display_name": "Python 3",
   "language": "python",
   "name": "python3"
  },
  "language_info": {
   "codemirror_mode": {
    "name": "ipython",
    "version": 3
   },
   "file_extension": ".py",
   "mimetype": "text/x-python",
   "name": "python",
   "nbconvert_exporter": "python",
   "pygments_lexer": "ipython3",
   "version": "3.6.3"
  }
 },
 "nbformat": 4,
 "nbformat_minor": 2
}
