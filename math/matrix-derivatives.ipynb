{
 "cells": [
  {
   "cell_type": "markdown",
   "metadata": {},
   "source": [
    "# Matrix derivatives\n",
    "\n",
    "In this section we will introduce some notation for doing calculus with matrices, enabling us to avoid writing reams of algebra and full pages of matrices derivatives when doing this sort of operation.\n",
    "\n",
    "## Gradient\n",
    "\n",
    "Given $f : \\mathbb{R}^{m \\times n} \\to \\mathbb{R}$\n",
    "\n",
    "$$\\nabla_{A} f(A) = \\begin{bmatrix}\n",
    "    \\frac{\\partial f}{\\partial A_{11}} & \\dots & \\frac{\\partial f}{\\partial A_{1n}} \\\\\n",
    "    \\vdots & \\ddots & \\vdots \\\\\n",
    "    \\frac{\\partial f}{\\partial A_{m1}} & \\dots & \\frac{\\partial f}{\\partial A_{mn}}\n",
    "\\end{bmatrix}$$\n",
    "\n",
    "Thus, the gradient $\\nabla_{A}f(A)$ is itself an m-by-n matrix, whose (i, j)-element is $\\frac{\\partial f}{\\partial A_{ij}}$.\n",
    "\n",
    "Without some proof, the following is derived pro\n",
    "\n",
    "## Trace\n",
    "\n",
    "The trace operator, written $tr$, for an n-by-n **square** matrix A is defined to be the sum of its diagonal entries:\n",
    "\n",
    "$$trA = \\sum_{i=1}^{n}A_{ii}$$\n",
    "\n",
    "The trace operator has the property that for two matrices $A$ and $B$ such that $AB$ is square, we have that $trAB = trBA$.\n",
    "\n",
    "As corollaries of this, we also have, e.g.,\n",
    "$$trABC = trCAB = trBCA,\n",
    "trABCD = trDABC = trCDAB = trBCDA$$\n",
    "\n",
    "The following properties of the trace operator are also easily verified. Here, $A$ and $B$ are square matrices, and $a \\in \\mathbb{R}$:\n",
    "\n",
    "$$trA = trAT \\\\\n",
    "tr(A + B) = trA + trB \\\\\n",
    "tr aA = atrA \\\\\n",
    "\\nabla_{A} tr AB = B^{T} \\\\\n",
    "\\nabla_{A^{T}} f(A) = (\\nabla_{A} f(A))^{T} \\\\\n",
    "\\nabla_{A} tr ABA^{T}C = CAB + C^{T}AB^{T} \\\\\n",
    "\\nabla_{A} |A| = |A| (A^{-1})^{T}\n",
    "$$"
   ]
  },
  {
   "cell_type": "code",
   "execution_count": null,
   "metadata": {},
   "outputs": [],
   "source": []
  }
 ],
 "metadata": {
  "kernelspec": {
   "display_name": "Python 3",
   "language": "python",
   "name": "python3"
  },
  "language_info": {
   "codemirror_mode": {
    "name": "ipython",
    "version": 3
   },
   "file_extension": ".py",
   "mimetype": "text/x-python",
   "name": "python",
   "nbconvert_exporter": "python",
   "pygments_lexer": "ipython3",
   "version": "3.6.6"
  }
 },
 "nbformat": 4,
 "nbformat_minor": 2
}
